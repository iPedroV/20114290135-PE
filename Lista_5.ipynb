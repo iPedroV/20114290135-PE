{
  "nbformat": 4,
  "nbformat_minor": 0,
  "metadata": {
    "colab": {
      "name": "Lista_5.ipynb",
      "provenance": [],
      "authorship_tag": "ABX9TyNfsAz2ih7a+nNkPPkFug4h",
      "include_colab_link": true
    },
    "kernelspec": {
      "name": "python3",
      "display_name": "Python 3"
    }
  },
  "cells": [
    {
      "cell_type": "markdown",
      "metadata": {
        "id": "view-in-github",
        "colab_type": "text"
      },
      "source": [
        "<a href=\"https://colab.research.google.com/github/iPedroV/20114290135-Probabilidade-e-Estatistica/blob/master/Lista_5.ipynb\" target=\"_parent\"><img src=\"https://colab.research.google.com/assets/colab-badge.svg\" alt=\"Open In Colab\"/></a>"
      ]
    },
    {
      "cell_type": "code",
      "metadata": {
        "id": "VgB-XQ_4dLB6"
      },
      "source": [
        "#Disciplina: Probabilidade e Estatística\n",
        "#Aluno: Pedro Vitor da Costa Silva\n",
        "#Turma: OADSNM1B\n",
        "#Lista 5\n",
        "\n",
        "#Questão 1\n",
        "\n",
        "import statistics\n",
        "l1 = [10, 13, 17, 9, 8, 11, 13, 7]\n",
        "MediaSimples"
      ],
      "execution_count": null,
      "outputs": []
    }
  ]
}